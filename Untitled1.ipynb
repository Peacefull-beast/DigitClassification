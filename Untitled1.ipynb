{
  "nbformat": 4,
  "nbformat_minor": 0,
  "metadata": {
    "colab": {
      "provenance": [],
      "gpuType": "T4"
    },
    "kernelspec": {
      "name": "python3",
      "display_name": "Python 3"
    },
    "language_info": {
      "name": "python"
    },
    "accelerator": "GPU"
  },
  "cells": [
    {
      "cell_type": "code",
      "execution_count": null,
      "metadata": {
        "colab": {
          "base_uri": "https://localhost:8080/"
        },
        "id": "8O-C-iW9NwXd",
        "outputId": "46014b7d-2ba8-4c30-f7db-791086ec1d4c"
      },
      "outputs": [
        {
          "output_type": "stream",
          "name": "stdout",
          "text": [
            "Epoch:0 loss is 0.014564729295670986\n",
            "Epoch:1 loss is 0.05569921433925629\n",
            "Epoch:2 loss is 0.0010305619798600674\n",
            "Epoch:3 loss is 0.06546627730131149\n",
            "Epoch:4 loss is 0.03309878334403038\n",
            "Epoch:5 loss is 2.277787461935077e-05\n",
            "Epoch:6 loss is 7.010154513409361e-05\n",
            "Epoch:7 loss is 1.1808187991846353e-05\n",
            "Epoch:8 loss is 0.00016703254368621856\n",
            "Epoch:9 loss is 5.0206301239086315e-05\n",
            "Predicted label: 9\n"
          ]
        }
      ],
      "source": [
        "# Importing dependencies\n",
        "import torch\n",
        "from PIL import Image\n",
        "from torch import nn,save,load\n",
        "from torch.optim import Adam\n",
        "from torch.utils.data import DataLoader\n",
        "from torchvision import datasets, transforms\n",
        "# Loading Data\n",
        "transform = transforms.Compose([transforms.ToTensor()])\n",
        "train_dataset = datasets.MNIST(root=\"data\", download=True, train=True, transform=transform)\n",
        "train_loader = DataLoader(train_dataset, batch_size=32, shuffle=True)\n",
        "# Define the image classifier model\n",
        "class ImageClassifier(nn.Module):\n",
        "    def __init__(self):\n",
        "        super(ImageClassifier, self).__init__()\n",
        "        self.conv_layers = nn.Sequential(\n",
        "            nn.Conv2d(1, 32, kernel_size=3),\n",
        "            nn.ReLU(),\n",
        "            nn.Conv2d(32, 64, kernel_size=3),\n",
        "            nn.ReLU(),\n",
        "            nn.Conv2d(64, 64, kernel_size=3),\n",
        "            nn.ReLU()\n",
        "        )\n",
        "        self.fc_layers = nn.Sequential(\n",
        "            nn.Flatten(),\n",
        "            nn.Linear(64 * 22 * 22, 10)\n",
        "        )\n",
        "\n",
        "    def forward(self, x):\n",
        "        x = self.conv_layers(x)\n",
        "        x = self.fc_layers(x)\n",
        "        return x\n",
        "# Create an instance of the image classifier model\n",
        "device = torch.device(\"cuda\" if torch.cuda.is_available() else \"cpu\")\n",
        "classifier = ImageClassifier().to(device)\n",
        "# Define the optimizer and loss function\n",
        "optimizer = Adam(classifier.parameters(), lr=0.001)\n",
        "loss_fn = nn.CrossEntropyLoss()\n",
        "# Train the model\n",
        "for epoch in range(10):  # Train for 10 epochs\n",
        "    for images, labels in train_loader:\n",
        "        images,labels=images.to(device), labels.to(device)\n",
        "        optimizer.zero_grad()  # Reset gradients\n",
        "        outputs = classifier(images)  # Forward pass\n",
        "        loss = loss_fn(outputs, labels)  # Compute loss\n",
        "        loss.backward()  # Backward pass\n",
        "        optimizer.step()  # Update weights\n",
        "\n",
        "    print(f\"Epoch:{epoch} loss is {loss.item()}\")\n",
        "# Save the trained model\n",
        "torch.save(classifier.state_dict(), 'model_state.pt')\n",
        "# Load the saved model\n",
        "with open('model_state.pt', 'rb') as f:\n",
        "     classifier.load_state_dict(load(f))\n",
        "\n",
        "# Perform inference on an image\n",
        "img = Image.open('/content/image.jpg')\n",
        "img_transform = transforms.Compose([transforms.ToTensor()])\n",
        "img_tensor = img_transform(img).unsqueeze(0).to(device)\n",
        "output = classifier(img_tensor)\n",
        "predicted_label = torch.argmax(output)\n",
        "print(f\"Predicted label: {predicted_label}\")"
      ]
    },
    {
      "cell_type": "code",
      "source": [],
      "metadata": {
        "id": "DS0y8TBvRKqV"
      },
      "execution_count": null,
      "outputs": []
    }
  ]
}